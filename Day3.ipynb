{
  "nbformat": 4,
  "nbformat_minor": 0,
  "metadata": {
    "colab": {
      "name": "Day3.ipynb",
      "provenance": [],
      "toc_visible": true,
      "authorship_tag": "ABX9TyNmPwOX3lfaktBCARGUQ9N3",
      "include_colab_link": true
    },
    "kernelspec": {
      "name": "python3",
      "display_name": "Python 3"
    }
  },
  "cells": [
    {
      "cell_type": "markdown",
      "metadata": {
        "id": "view-in-github",
        "colab_type": "text"
      },
      "source": [
        "<a href=\"https://colab.research.google.com/github/HemachanderN/Python-workshop/blob/master/Day3.ipynb\" target=\"_parent\"><img src=\"https://colab.research.google.com/assets/colab-badge.svg\" alt=\"Open In Colab\"/></a>"
      ]
    },
    {
      "cell_type": "markdown",
      "metadata": {
        "id": "8GKRXycuuUXZ",
        "colab_type": "text"
      },
      "source": [
        "##**Pandas Examples**\n",
        "\n"
      ]
    },
    {
      "cell_type": "code",
      "metadata": {
        "id": "WpuOQSNAt-u8",
        "colab_type": "code",
        "colab": {
          "base_uri": "https://localhost:8080/",
          "height": 118
        },
        "outputId": "02f76536-d567-4e97-a2bc-b5b18536c489"
      },
      "source": [
        "#Write a Pandas program to create and display a one-dimensional array using series  containing  even numbers upto 10\n",
        "\n",
        "import pandas as pd\n",
        "ds = pd.Series([2, 4, 6, 8,10]) \n",
        "print(ds)\n"
      ],
      "execution_count": null,
      "outputs": [
        {
          "output_type": "stream",
          "text": [
            "0     2\n",
            "1     4\n",
            "2     6\n",
            "3     8\n",
            "4    10\n",
            "dtype: int64\n"
          ],
          "name": "stdout"
        }
      ]
    },
    {
      "cell_type": "code",
      "metadata": {
        "id": "8OT5l9911FsK",
        "colab_type": "code",
        "colab": {}
      },
      "source": [
        ""
      ],
      "execution_count": null,
      "outputs": []
    },
    {
      "cell_type": "code",
      "metadata": {
        "id": "keEajDiMuRHA",
        "colab_type": "code",
        "colab": {
          "base_uri": "https://localhost:8080/",
          "height": 202
        },
        "outputId": "e4f67bac-207d-4bdd-fa4b-b1ba1aa63be9"
      },
      "source": [
        "#Write a Pandas program to convert a Panda module Series to Python list and its type.\n",
        "\n",
        "import pandas as pd\n",
        "ds = pd.Series([2, 4, 6, 8, 10])\n",
        "print(\"Pandas Series and type\")\n",
        "print(ds)\n",
        "print(type(ds))\n",
        "print(\"Convert Pandas Series to Python list\")\n",
        "print(ds.tolist())\n",
        "print(type(ds.tolist()))\n"
      ],
      "execution_count": null,
      "outputs": [
        {
          "output_type": "stream",
          "text": [
            "Pandas Series and type\n",
            "0     2\n",
            "1     4\n",
            "2     6\n",
            "3     8\n",
            "4    10\n",
            "dtype: int64\n",
            "<class 'pandas.core.series.Series'>\n",
            "Convert Pandas Series to Python list\n",
            "[2, 4, 6, 8, 10]\n",
            "<class 'list'>\n"
          ],
          "name": "stdout"
        }
      ]
    },
    {
      "cell_type": "code",
      "metadata": {
        "id": "PmJMdysJulo_",
        "colab_type": "code",
        "colab": {
          "base_uri": "https://localhost:8080/",
          "height": 487
        },
        "outputId": "8dfe8f8e-1cfb-4bbc-a672-8644e817455c"
      },
      "source": [
        "#Write a Pandas program to add, subtract, multiple and divide two Pandas Series.\n",
        "#Sample Series: [2, 4, 6, 8, 10], [1, 3, 5, 7, 9]\n",
        "\n",
        "import pandas as pd\n",
        "ds1 = pd.Series([2, 4, 6, 8, 10])\n",
        "ds2 = pd.Series([1, 3, 5, 7, 9])\n",
        "ds = ds1 + ds2\n",
        "print(\"Add two Series:\")\n",
        "print(ds)\n",
        "print(\"Subtract two Series:\")\n",
        "ds = ds1 - ds2\n",
        "print(ds)\n",
        "print(\"Multiply two Series:\")\n",
        "ds = ds1 * ds2\n",
        "print(ds)\n",
        "print(\"Divide Series1 by Series2:\")\n",
        "ds = ds1 / ds2\n",
        "print(ds)\n"
      ],
      "execution_count": null,
      "outputs": [
        {
          "output_type": "stream",
          "text": [
            "Add two Series:\n",
            "0     3\n",
            "1     7\n",
            "2    11\n",
            "3    15\n",
            "4    19\n",
            "dtype: int64\n",
            "Subtract two Series:\n",
            "0    1\n",
            "1    1\n",
            "2    1\n",
            "3    1\n",
            "4    1\n",
            "dtype: int64\n",
            "Multiply two Series:\n",
            "0     2\n",
            "1    12\n",
            "2    30\n",
            "3    56\n",
            "4    90\n",
            "dtype: int64\n",
            "Divide Series1 by Series2:\n",
            "0    2.000000\n",
            "1    1.333333\n",
            "2    1.200000\n",
            "3    1.142857\n",
            "4    1.111111\n",
            "dtype: float64\n"
          ],
          "name": "stdout"
        }
      ]
    },
    {
      "cell_type": "code",
      "metadata": {
        "id": "fI6XnshZvASe",
        "colab_type": "code",
        "colab": {
          "base_uri": "https://localhost:8080/",
          "height": 622
        },
        "outputId": "bb3d712c-edd8-46c0-f599-5a72413e3808"
      },
      "source": [
        "#Write a Pandas program to compare the elements of the two Pandas Series.\n",
        "#Sample Series: [2, 4, 6, 8, 10], [1, 3, 5, 7, 9]\n",
        "\n",
        "import pandas as pd\n",
        "ds1 = pd.Series([2, 4, 6, 8, 10])\n",
        "ds2 = pd.Series([1, 3, 5, 7, 10])\n",
        "print(\"Series1:\")\n",
        "print(ds1)\n",
        "print(\"Series2:\")\n",
        "print(ds2)\n",
        "print(\"Compare the elements of the said Series:\")\n",
        "print(\"Equals:\")\n",
        "print(ds1 == ds2)\n",
        "print(\"Greater than:\")\n",
        "print(ds1 > ds2)\n",
        "print(\"Less than:\")\n",
        "print(ds1 < ds2)\n"
      ],
      "execution_count": null,
      "outputs": [
        {
          "output_type": "stream",
          "text": [
            "Series1:\n",
            "0     2\n",
            "1     4\n",
            "2     6\n",
            "3     8\n",
            "4    10\n",
            "dtype: int64\n",
            "Series2:\n",
            "0     1\n",
            "1     3\n",
            "2     5\n",
            "3     7\n",
            "4    10\n",
            "dtype: int64\n",
            "Compare the elements of the said Series:\n",
            "Equals:\n",
            "0    False\n",
            "1    False\n",
            "2    False\n",
            "3    False\n",
            "4     True\n",
            "dtype: bool\n",
            "Greater than:\n",
            "0     True\n",
            "1     True\n",
            "2     True\n",
            "3     True\n",
            "4    False\n",
            "dtype: bool\n",
            "Less than:\n",
            "0    False\n",
            "1    False\n",
            "2    False\n",
            "3    False\n",
            "4    False\n",
            "dtype: bool\n"
          ],
          "name": "stdout"
        }
      ]
    },
    {
      "cell_type": "code",
      "metadata": {
        "id": "eR6LuP9zvmWC",
        "colab_type": "code",
        "colab": {
          "base_uri": "https://localhost:8080/",
          "height": 168
        },
        "outputId": "35e29faf-a81f-4460-ef2f-288e57037c51"
      },
      "source": [
        "#Write a Pandas program to convert a dictionary to a Pandas series.\n",
        "#Sample dictionary: d1 = {'a': 100, 'b': 200, 'c':300, 'd':400, 'e':800}\n",
        "import pandas as pd\n",
        "d1 = {'a': 100, 'b': 200, 'c':300, 'd':400, 'e':800}\n",
        "print(\"Original dictionary:\")\n",
        "print(d1)\n",
        "new_series = pd.Series(d1)\n",
        "print(\"Converted series:\")\n",
        "print(new_series)\n"
      ],
      "execution_count": null,
      "outputs": [
        {
          "output_type": "stream",
          "text": [
            "Original dictionary:\n",
            "{'a': 100, 'b': 200, 'c': 300, 'd': 400, 'e': 800}\n",
            "Converted series:\n",
            "a    100\n",
            "b    200\n",
            "c    300\n",
            "d    400\n",
            "e    800\n",
            "dtype: int64\n"
          ],
          "name": "stdout"
        }
      ]
    },
    {
      "cell_type": "code",
      "metadata": {
        "id": "VEl6q9j9v4dV",
        "colab_type": "code",
        "colab": {
          "base_uri": "https://localhost:8080/",
          "height": 168
        },
        "outputId": "f8510635-39f2-4e61-8653-21bad3608707"
      },
      "source": [
        "#Write a Pandas program to convert a NumPy array to a Pandas series.\n",
        "#Sample NumPy array: d1 = [10, 20, 30, 40, 50]\n",
        "import numpy as np\n",
        "import pandas as pd\n",
        "np_array = np.array([10, 20, 30, 40, 50])\n",
        "print(\"NumPy array:\")\n",
        "print(np_array)\n",
        "new_series = pd.Series(np_array)\n",
        "print(\"Converted Pandas series:\")\n",
        "print(new_series)\n"
      ],
      "execution_count": null,
      "outputs": [
        {
          "output_type": "stream",
          "text": [
            "NumPy array:\n",
            "[10 20 30 40 50]\n",
            "Converted Pandas series:\n",
            "0    10\n",
            "1    20\n",
            "2    30\n",
            "3    40\n",
            "4    50\n",
            "dtype: int64\n"
          ],
          "name": "stdout"
        }
      ]
    },
    {
      "cell_type": "code",
      "metadata": {
        "id": "A1d2teGIwNxk",
        "colab_type": "code",
        "colab": {
          "base_uri": "https://localhost:8080/",
          "height": 252
        },
        "outputId": "da0349b2-81b4-4953-fdee-9c942929765b"
      },
      "source": [
        "#Write a Pandas program to change the data type of the given  Series into numeric\n",
        "#['100', '200', 'python', '300.12', '400']\n",
        "\n",
        "import pandas as pd\n",
        "s1 = pd.Series(['100', '200', 'python', '300.12', '400a'])\n",
        "print(\"Original Data Series:\")\n",
        "print(s1)\n",
        "print(\"Change the said data type to numeric:\")\n",
        "s2 = pd.to_numeric(s1, errors='coerce')\n",
        "print(s2)\n"
      ],
      "execution_count": null,
      "outputs": [
        {
          "output_type": "stream",
          "text": [
            "Original Data Series:\n",
            "0       100\n",
            "1       200\n",
            "2    python\n",
            "3    300.12\n",
            "4      400a\n",
            "dtype: object\n",
            "Change the said data type to numeric:\n",
            "0    100.00\n",
            "1    200.00\n",
            "2       NaN\n",
            "3    300.12\n",
            "4       NaN\n",
            "dtype: float64\n"
          ],
          "name": "stdout"
        }
      ]
    },
    {
      "cell_type": "code",
      "metadata": {
        "id": "DjZLiMfqwdpt",
        "colab_type": "code",
        "colab": {
          "base_uri": "https://localhost:8080/",
          "height": 168
        },
        "outputId": "2e53eee6-6a92-4930-de69-8e37f81cbebc"
      },
      "source": [
        "# Write a Pandas program to convert a given Series to an array.\n",
        "import numpy as np\n",
        "s1 = pd.Series(['100', '200', 'python', '300.12', '400'])\n",
        "print(\"Original Data Series:\")\n",
        "print(s1)\n",
        "print(\"Series to an array\")\n",
        "a = np.array(s1.values.tolist())\n",
        "print (a)\n"
      ],
      "execution_count": null,
      "outputs": [
        {
          "output_type": "stream",
          "text": [
            "Original Data Series:\n",
            "0       100\n",
            "1       200\n",
            "2    python\n",
            "3    300.12\n",
            "4       400\n",
            "dtype: object\n",
            "Series to an array\n",
            "['100' '200' 'python' '300.12' '400']\n"
          ],
          "name": "stdout"
        }
      ]
    },
    {
      "cell_type": "code",
      "metadata": {
        "id": "idTvgqBCwv2y",
        "colab_type": "code",
        "colab": {
          "base_uri": "https://localhost:8080/",
          "height": 235
        },
        "outputId": "2c9a83a4-ed2a-4dd9-8f10-f1cdba33f37a"
      },
      "source": [
        "#Write a Pandas program to sort a given Series.\n",
        "import pandas as pd\n",
        "s = pd.Series(['200','100','python', '300.12', '400'])\n",
        "print(\"Original Data Series:\")\n",
        "print(s)\n",
        "new_s = pd.Series(s).sort_values()\n",
        "print(new_s)\n"
      ],
      "execution_count": null,
      "outputs": [
        {
          "output_type": "stream",
          "text": [
            "Original Data Series:\n",
            "0       200\n",
            "1       100\n",
            "2    python\n",
            "3    300.12\n",
            "4       400\n",
            "dtype: object\n",
            "1       100\n",
            "0       200\n",
            "3    300.12\n",
            "4       400\n",
            "2    python\n",
            "dtype: object\n"
          ],
          "name": "stdout"
        }
      ]
    },
    {
      "cell_type": "code",
      "metadata": {
        "id": "J19a-FsfxBwq",
        "colab_type": "code",
        "colab": {
          "base_uri": "https://localhost:8080/",
          "height": 302
        },
        "outputId": "f5fcc01e-6ce9-4424-e3aa-56e18b04a337"
      },
      "source": [
        "#Write a Pandas program to add some data to an existing Series.\n",
        "\n",
        "import pandas as pd\n",
        "s = pd.Series(['100', '200', 'python', '300.12', '400'])\n",
        "print(\"Original Data Series:\")\n",
        "print(s)\n",
        "print(\"\\nData Series after adding some data:\")\n",
        "new_s = s.append(pd.Series(['500', 'php']))\n",
        "print(new_s)\n"
      ],
      "execution_count": null,
      "outputs": [
        {
          "output_type": "stream",
          "text": [
            "Original Data Series:\n",
            "0       100\n",
            "1       200\n",
            "2    python\n",
            "3    300.12\n",
            "4       400\n",
            "dtype: object\n",
            "\n",
            "Data Series after adding some data:\n",
            "0       100\n",
            "1       200\n",
            "2    python\n",
            "3    300.12\n",
            "4       400\n",
            "0       500\n",
            "1       php\n",
            "dtype: object\n"
          ],
          "name": "stdout"
        }
      ]
    },
    {
      "cell_type": "code",
      "metadata": {
        "id": "fpwba0M2xMOX",
        "colab_type": "code",
        "colab": {
          "base_uri": "https://localhost:8080/",
          "height": 353
        },
        "outputId": "64d90cdb-5460-431b-932b-1ad2d7615cdb"
      },
      "source": [
        "#Write a Pandas program to create a subset of a given series based on value and condition.\n",
        "\n",
        "import pandas as pd\n",
        "s = pd.Series([0, 1,2,3,4,5,6,7,8,9,10])\n",
        "print(\"Original Data Series:\")\n",
        "print(s)\n",
        "print(\"\\nSubset of the above Data Series:\")\n",
        "n = 6\n",
        "new_s = s[s >n]\n",
        "print(new_s)\n"
      ],
      "execution_count": null,
      "outputs": [
        {
          "output_type": "stream",
          "text": [
            "Original Data Series:\n",
            "0      0\n",
            "1      1\n",
            "2      2\n",
            "3      3\n",
            "4      4\n",
            "5      5\n",
            "6      6\n",
            "7      7\n",
            "8      8\n",
            "9      9\n",
            "10    10\n",
            "dtype: int64\n",
            "\n",
            "Subset of the above Data Series:\n",
            "7      7\n",
            "8      8\n",
            "9      9\n",
            "10    10\n",
            "dtype: int64\n"
          ],
          "name": "stdout"
        }
      ]
    },
    {
      "cell_type": "code",
      "metadata": {
        "id": "dFpCHsOVxo9i",
        "colab_type": "code",
        "colab": {
          "base_uri": "https://localhost:8080/",
          "height": 252
        },
        "outputId": "7cdbc1f4-e121-4fc5-a265-85b2092b505f"
      },
      "source": [
        "#Write a Pandas program to change the order of index of a given series.\n",
        "import pandas as pd\n",
        "s = pd.Series(data = [1,2,3,4,5], index = ['A', 'B', 'C','D','E'])\n",
        "print(\"Original Data Series:\")\n",
        "print(s)\n",
        "s = s.reindex(index = ['B','A','C','D','E'])\n",
        "print(\"Data Series after changing the order of index:\")\n",
        "print(s)\n"
      ],
      "execution_count": null,
      "outputs": [
        {
          "output_type": "stream",
          "text": [
            "Original Data Series:\n",
            "A    1\n",
            "B    2\n",
            "C    3\n",
            "D    4\n",
            "E    5\n",
            "dtype: int64\n",
            "Data Series after changing the order of index:\n",
            "B    2\n",
            "A    1\n",
            "C    3\n",
            "D    4\n",
            "E    5\n",
            "dtype: int64\n"
          ],
          "name": "stdout"
        }
      ]
    },
    {
      "cell_type": "code",
      "metadata": {
        "id": "kD4A-g3bx5_a",
        "colab_type": "code",
        "colab": {
          "base_uri": "https://localhost:8080/",
          "height": 302
        },
        "outputId": "acc79bba-884c-4228-d536-560abc56545b"
      },
      "source": [
        "#Write a Pandas program to create the mean and standard deviation, maximum and minimum of the data of a given Series.\n",
        "\n",
        "import pandas as pd\n",
        "s = pd.Series(data = [1,2,3,4,5,6,7,8,9,5,3])\n",
        "print(\"Original Data Series:\")\n",
        "print(s)\n",
        "print(\"Mean of the said Data Series:\")\n",
        "print(s.mean())\n",
        "print(\"Standard deviation of the said Data Series:\")\n",
        "print(s.std())\n"
      ],
      "execution_count": null,
      "outputs": [
        {
          "output_type": "stream",
          "text": [
            "Original Data Series:\n",
            "0     1\n",
            "1     2\n",
            "2     3\n",
            "3     4\n",
            "4     5\n",
            "5     6\n",
            "6     7\n",
            "7     8\n",
            "8     9\n",
            "9     5\n",
            "10    3\n",
            "dtype: int64\n",
            "Mean of the said Data Series:\n",
            "4.818181818181818\n",
            "Standard deviation of the said Data Series:\n",
            "2.522624895547565\n"
          ],
          "name": "stdout"
        }
      ]
    },
    {
      "cell_type": "code",
      "metadata": {
        "id": "kvo7dwf31IS8",
        "colab_type": "code",
        "colab": {
          "base_uri": "https://localhost:8080/",
          "height": 118
        },
        "outputId": "39c551fe-4b15-43d0-8472-4704ca69e960"
      },
      "source": [
        "#Write a Pandas program to get the elements of an array values into column-wise.\n",
        "#Sample data: {‘X’:[78,85,96,80,86], 'Y':[84,94,89,83,86],'Z':[86,97,96,72,83]}\n",
        "import pandas as pd\n",
        "df = pd.DataFrame({'X':[78,85,96,80,86], 'Y':[84,94,89,83,86],'Z':[86,97,96,72,83]});\n",
        "print(df)\n"
      ],
      "execution_count": 16,
      "outputs": [
        {
          "output_type": "stream",
          "text": [
            "    X   Y   Z\n",
            "0  78  84  86\n",
            "1  85  94  97\n",
            "2  96  89  96\n",
            "3  80  83  72\n",
            "4  86  86  83\n"
          ],
          "name": "stdout"
        }
      ]
    },
    {
      "cell_type": "code",
      "metadata": {
        "id": "Rp9RHtsJ1Rw-",
        "colab_type": "code",
        "colab": {
          "base_uri": "https://localhost:8080/",
          "height": 420
        },
        "outputId": "8e891260-969f-4b05-9d46-0b4e3afe9368"
      },
      "source": [
        "#Write a Pandas program to get the columns of the DataFrame (movies_metadata.csv file).\n",
        "\n",
        "import pandas as pd\n",
        "import numpy as np\n",
        "df = pd.read_csv('movie_metadata.csv')\n",
        "print(df)\n",
        "print(\"Columns of the DataFrame:\")\n",
        "print(df.columns)\n"
      ],
      "execution_count": 22,
      "outputs": [
        {
          "output_type": "stream",
          "text": [
            "      color      director_name  ...  movie_facebook_likes  Unnamed: 28\n",
            "0     Color      James Cameron  ...                 33000          NaN\n",
            "1     Color     Gore Verbinski  ...                     0          NaN\n",
            "2     Color         Sam Mendes  ...                 85000          NaN\n",
            "3     Color  Christopher Nolan  ...                164000          NaN\n",
            "4       NaN        Doug Walker  ...                     0          NaN\n",
            "...     ...                ...  ...                   ...          ...\n",
            "5038  Color        Scott Smith  ...                    84          NaN\n",
            "5039  Color                NaN  ...                 32000          NaN\n",
            "5040  Color   Benjamin Roberds  ...                    16          NaN\n",
            "5041  Color        Daniel Hsia  ...                   660          NaN\n",
            "5042  Color           Jon Gunn  ...                   456          NaN\n",
            "\n",
            "[5043 rows x 29 columns]\n",
            "Columns of the DataFrame:\n",
            "Index(['color', 'director_name', 'num_critic_for_reviews', 'duration',\n",
            "       'director_facebook_likes', 'actor_3_facebook_likes', 'actor_2_name',\n",
            "       'actor_1_facebook_likes', 'gross', 'genres', 'actor_1_name',\n",
            "       'movie_title', 'num_voted_users', 'cast_total_facebook_likes',\n",
            "       'actor_3_name', 'facenumber_in_poster', 'plot_keywords',\n",
            "       'movie_imdb_link', 'num_user_for_reviews', 'language', 'country',\n",
            "       'content_rating', 'budget', 'title_year', 'actor_2_facebook_likes',\n",
            "       'imdb_score', 'aspect_ratio', 'movie_facebook_likes', 'Unnamed: 28'],\n",
            "      dtype='object')\n"
          ],
          "name": "stdout"
        }
      ]
    },
    {
      "cell_type": "code",
      "metadata": {
        "id": "zJbJXuAd6h2_",
        "colab_type": "code",
        "colab": {
          "base_uri": "https://localhost:8080/",
          "height": 286
        },
        "outputId": "5944f6c8-348e-4923-8bd7-307e0455c639"
      },
      "source": [
        "#Write a Pandas program to sort the DataFrame based on country from dataset of \n",
        "# movie_metadata.csv\n",
        "\n",
        "import pandas as pd\n",
        "import numpy as np\n",
        "df = pd.read_csv('movie_metadata.csv')\n",
        "print(\"sorted by country\")\n",
        "small_df = df[['num_user_for_reviews','language','country','content_rating','budget','title_year']]\n",
        "result = small_df.sort_values('country')\n",
        "print(\"DataFrame based on release date.\")\n",
        "print(result)\n"
      ],
      "execution_count": 23,
      "outputs": [
        {
          "output_type": "stream",
          "text": [
            "sorted by country\n",
            "DataFrame based on release date.\n",
            "     num_user_for_reviews language  ...     budget title_year\n",
            "4735                   77     Dari  ...    46000.0     2003.0\n",
            "4450                   37  Spanish  ...  1400000.0     2004.0\n",
            "4666                   11  Spanish  ...   800000.0     2004.0\n",
            "4415                  125  Spanish  ...  1500000.0     2000.0\n",
            "4000                  231  Spanish  ...  2000000.0     2009.0\n",
            "...                   ...      ...  ...        ...        ...\n",
            "4                     NaN      NaN  ...        NaN        NaN\n",
            "279                   NaN      NaN  ...        NaN        NaN\n",
            "2370                  NaN  English  ...        NaN        NaN\n",
            "3397                   85  English  ...        NaN        NaN\n",
            "4021                   13  English  ...  3500000.0     2014.0\n",
            "\n",
            "[5043 rows x 6 columns]\n"
          ],
          "name": "stdout"
        }
      ]
    },
    {
      "cell_type": "code",
      "metadata": {
        "id": "wj-dW6JT7ABG",
        "colab_type": "code",
        "colab": {
          "base_uri": "https://localhost:8080/",
          "height": 538
        },
        "outputId": "f358bdd2-6e31-42b4-fc11-f6ed710ec2b6"
      },
      "source": [
        "#Write a Pandas program to get the details of the thrid movie of the DataFrame #(movie_metadata.csv file).\n",
        "\n",
        "import pandas as pd\n",
        "df = pd.read_csv('movie_metadata.csv')\n",
        "third_movie = df.iloc[2]\n",
        "print(\"Details of the third moviee:\")\n",
        "print(third_movie)\n"
      ],
      "execution_count": 24,
      "outputs": [
        {
          "output_type": "stream",
          "text": [
            "Details of the third moviee:\n",
            "color                                                                    Color\n",
            "director_name                                                       Sam Mendes\n",
            "num_critic_for_reviews                                                     602\n",
            "duration                                                                   148\n",
            "director_facebook_likes                                                      0\n",
            "actor_3_facebook_likes                                                     161\n",
            "actor_2_name                                                      Rory Kinnear\n",
            "actor_1_facebook_likes                                                   11000\n",
            "gross                                                              2.00074e+08\n",
            "genres                                               Action|Adventure|Thriller\n",
            "actor_1_name                                                   Christoph Waltz\n",
            "movie_title                                                           Spectre \n",
            "num_voted_users                                                         275868\n",
            "cast_total_facebook_likes                                                11700\n",
            "actor_3_name                                                  Stephanie Sigman\n",
            "facenumber_in_poster                                                         1\n",
            "plot_keywords                              bomb|espionage|sequel|spy|terrorist\n",
            "movie_imdb_link              http://www.imdb.com/title/tt2379713/?ref_=fn_t...\n",
            "num_user_for_reviews                                                       994\n",
            "language                                                               English\n",
            "country                                                                     UK\n",
            "content_rating                                                           PG-13\n",
            "budget                                                                2.45e+08\n",
            "title_year                                                                2015\n",
            "actor_2_facebook_likes                                                     393\n",
            "imdb_score                                                                 6.8\n",
            "aspect_ratio                                                              2.35\n",
            "movie_facebook_likes                                                     85000\n",
            "Unnamed: 28                                                                NaN\n",
            "Name: 2, dtype: object\n"
          ],
          "name": "stdout"
        }
      ]
    },
    {
      "cell_type": "code",
      "metadata": {
        "id": "b65gem3d7ZaL",
        "colab_type": "code",
        "colab": {
          "base_uri": "https://localhost:8080/",
          "height": 252
        },
        "outputId": "362d7845-533e-4e21-cc06-0db2122e5bbf"
      },
      "source": [
        "#Write a Pandas program to display the first 10 rows of the DataFrame.\n",
        "import pandas as pd\n",
        "df = pd.read_csv('movie_metadata.csv')\n",
        "#Display the first 10 rows\n",
        "result = df.head(10)\n",
        "print(\"First 10 rows of the DataFrame:\")\n",
        "print(result)\n"
      ],
      "execution_count": 26,
      "outputs": [
        {
          "output_type": "stream",
          "text": [
            "First 10 rows of the DataFrame:\n",
            "   color      director_name  ...  movie_facebook_likes  Unnamed: 28\n",
            "0  Color      James Cameron  ...                 33000          NaN\n",
            "1  Color     Gore Verbinski  ...                     0          NaN\n",
            "2  Color         Sam Mendes  ...                 85000          NaN\n",
            "3  Color  Christopher Nolan  ...                164000          NaN\n",
            "4    NaN        Doug Walker  ...                     0          NaN\n",
            "5  Color     Andrew Stanton  ...                 24000          NaN\n",
            "6  Color          Sam Raimi  ...                     0          NaN\n",
            "7  Color       Nathan Greno  ...                 29000          NaN\n",
            "8  Color        Joss Whedon  ...                118000          NaN\n",
            "9  Color        David Yates  ...                 10000          NaN\n",
            "\n",
            "[10 rows x 29 columns]\n"
          ],
          "name": "stdout"
        }
      ]
    },
    {
      "cell_type": "code",
      "metadata": {
        "id": "q6i4KRQJ8XTj",
        "colab_type": "code",
        "colab": {
          "base_uri": "https://localhost:8080/",
          "height": 252
        },
        "outputId": "3e74b4a3-c3cf-4ff6-fe9b-dd1cfff9d1a5"
      },
      "source": [
        "#Write a Pandas program to display the first 10 rows of the DataFrame.\n",
        "import pandas as pd\n",
        "df = pd.read_csv('movie_metadata.csv')\n",
        "#Display the first 10 rows\n",
        "result = df.head(10)\n",
        "print(\"First 10 rows of the DataFrame:\")\n",
        "print(result)\n"
      ],
      "execution_count": 27,
      "outputs": [
        {
          "output_type": "stream",
          "text": [
            "First 10 rows of the DataFrame:\n",
            "   color      director_name  ...  movie_facebook_likes  Unnamed: 28\n",
            "0  Color      James Cameron  ...                 33000          NaN\n",
            "1  Color     Gore Verbinski  ...                     0          NaN\n",
            "2  Color         Sam Mendes  ...                 85000          NaN\n",
            "3  Color  Christopher Nolan  ...                164000          NaN\n",
            "4    NaN        Doug Walker  ...                     0          NaN\n",
            "5  Color     Andrew Stanton  ...                 24000          NaN\n",
            "6  Color          Sam Raimi  ...                     0          NaN\n",
            "7  Color       Nathan Greno  ...                 29000          NaN\n",
            "8  Color        Joss Whedon  ...                118000          NaN\n",
            "9  Color        David Yates  ...                 10000          NaN\n",
            "\n",
            "[10 rows x 29 columns]\n"
          ],
          "name": "stdout"
        }
      ]
    },
    {
      "cell_type": "markdown",
      "metadata": {
        "id": "4-5rk1jH9KZ3",
        "colab_type": "text"
      },
      "source": [
        "##**Numpy Examples**"
      ]
    },
    {
      "cell_type": "code",
      "metadata": {
        "id": "Cl2bgIxr86QD",
        "colab_type": "code",
        "colab": {
          "base_uri": "https://localhost:8080/",
          "height": 34
        },
        "outputId": "375e3823-9110-4056-9762-eedcb730f486"
      },
      "source": [
        "#Write a NumPy program to generate five random numbers from the normal distribution.\n",
        "import numpy as np\n",
        "x = np.random.normal(size=5)\n",
        "print(x)\n"
      ],
      "execution_count": 28,
      "outputs": [
        {
          "output_type": "stream",
          "text": [
            "[-0.88797829  0.4733834  -0.575401   -1.5890774   1.57970124]\n"
          ],
          "name": "stdout"
        }
      ]
    },
    {
      "cell_type": "code",
      "metadata": {
        "id": "ySVFrF3G9gOW",
        "colab_type": "code",
        "colab": {
          "base_uri": "https://localhost:8080/",
          "height": 34
        },
        "outputId": "c0a8bc21-5cfd-422e-ef43-8c5b24a8f352"
      },
      "source": [
        "#Write a NumPy program to generate six random integers between 10 and 30\n",
        "import numpy as np\n",
        "x = np.random.randint(low=10, high=30, size=6)\n",
        "print(x)\n"
      ],
      "execution_count": 29,
      "outputs": [
        {
          "output_type": "stream",
          "text": [
            "[12 25 27 23 21 15]\n"
          ],
          "name": "stdout"
        }
      ]
    },
    {
      "cell_type": "code",
      "metadata": {
        "id": "Z41Nv-_L9z8H",
        "colab_type": "code",
        "colab": {
          "base_uri": "https://localhost:8080/",
          "height": 202
        },
        "outputId": "89f8fd1f-3936-42ff-a48f-b87db0bb3b7c"
      },
      "source": [
        "#Write a NumPy program to create a 3x3x3 array with random values.\n",
        "import numpy as np\n",
        "x = np.random.random((3,3,3))\n",
        "print(x)\n"
      ],
      "execution_count": 30,
      "outputs": [
        {
          "output_type": "stream",
          "text": [
            "[[[0.06699512 0.43995266 0.43045464]\n",
            "  [0.47811877 0.80516789 0.58023385]\n",
            "  [0.0199178  0.81001975 0.95913043]]\n",
            "\n",
            " [[0.87245311 0.66296536 0.07560594]\n",
            "  [0.12836059 0.30991479 0.54071094]\n",
            "  [0.14573252 0.55544471 0.0286901 ]]\n",
            "\n",
            " [[0.21114988 0.58310141 0.62342122]\n",
            "  [0.22204627 0.0789412  0.37201598]\n",
            "  [0.05334214 0.16099909 0.81078989]]]\n"
          ],
          "name": "stdout"
        }
      ]
    },
    {
      "cell_type": "code",
      "metadata": {
        "id": "jM168tT5TSrP",
        "colab_type": "code",
        "colab": {
          "base_uri": "https://localhost:8080/",
          "height": 151
        },
        "outputId": "36e0f4e8-1435-4799-e712-4f0c3e4ff679"
      },
      "source": [
        "#Write a NumPy program to create a 5x5 array with random values and find the minimum #and maximum values.\n",
        "\n",
        "import numpy as np\n",
        "x = np.random.random((5,5))\n",
        "print(\"Original Array:\")\n",
        "print(x) \n",
        "xmin, xmax = x.min(), x.max()\n",
        "print(\"Minimum and Maximum Values:\")\n",
        "print(xmin, xmax)\n"
      ],
      "execution_count": 31,
      "outputs": [
        {
          "output_type": "stream",
          "text": [
            "Original Array:\n",
            "[[0.03196679 0.78368547 0.6443265  0.62674637 0.70059689]\n",
            " [0.90005355 0.95598287 0.31059774 0.51369673 0.69135518]\n",
            " [0.52058581 0.0523366  0.05142104 0.71740005 0.55073727]\n",
            " [0.03940153 0.45415258 0.35826843 0.97574427 0.64657348]\n",
            " [0.55416339 0.71711544 0.48273385 0.99136723 0.90888554]]\n",
            "Minimum and Maximum Values:\n",
            "0.03196679135763758 0.991367228238595\n"
          ],
          "name": "stdout"
        }
      ]
    },
    {
      "cell_type": "code",
      "metadata": {
        "id": "fTYZ-GaDTgmE",
        "colab_type": "code",
        "colab": {
          "base_uri": "https://localhost:8080/",
          "height": 487
        },
        "outputId": "69ed1ba6-68ce-4e82-f46b-a4e30be23641"
      },
      "source": [
        "#Write a NumPy program to create a random 10x4 array and extract the first five rows of the # array and store them into a variable.\n",
        "import numpy as np\n",
        "x = np.random.rand(10, 4)\n",
        "print(\"Original array: \")\n",
        "print(x)\n",
        "y= x[:5, :]\n",
        "print(\"First 5 rows of the above array:\")\n",
        "y= x[:5, :]\n",
        "print(y)\n",
        "z= x[:, :4]\n",
        "print(\"First 3 columns of the above array:\")\n",
        "print(z)\n"
      ],
      "execution_count": 32,
      "outputs": [
        {
          "output_type": "stream",
          "text": [
            "Original array: \n",
            "[[0.66668303 0.44374467 0.2335684  0.16169503]\n",
            " [0.14826679 0.94263332 0.24408125 0.90897419]\n",
            " [0.77120591 0.76246874 0.50166894 0.73377675]\n",
            " [0.50150809 0.5483454  0.13499491 0.43368775]\n",
            " [0.12424579 0.70731268 0.72069946 0.70699412]\n",
            " [0.38921197 0.65515487 0.62822664 0.11095558]\n",
            " [0.10834778 0.81451052 0.69845289 0.87897413]\n",
            " [0.54046196 0.28937778 0.45290834 0.29999278]\n",
            " [0.26999828 0.37871624 0.92641926 0.28542365]\n",
            " [0.60483684 0.25695705 0.49974779 0.47016446]]\n",
            "First 5 rows of the above array:\n",
            "[[0.66668303 0.44374467 0.2335684  0.16169503]\n",
            " [0.14826679 0.94263332 0.24408125 0.90897419]\n",
            " [0.77120591 0.76246874 0.50166894 0.73377675]\n",
            " [0.50150809 0.5483454  0.13499491 0.43368775]\n",
            " [0.12424579 0.70731268 0.72069946 0.70699412]]\n",
            "First 3 columns of the above array:\n",
            "[[0.66668303 0.44374467 0.2335684  0.16169503]\n",
            " [0.14826679 0.94263332 0.24408125 0.90897419]\n",
            " [0.77120591 0.76246874 0.50166894 0.73377675]\n",
            " [0.50150809 0.5483454  0.13499491 0.43368775]\n",
            " [0.12424579 0.70731268 0.72069946 0.70699412]\n",
            " [0.38921197 0.65515487 0.62822664 0.11095558]\n",
            " [0.10834778 0.81451052 0.69845289 0.87897413]\n",
            " [0.54046196 0.28937778 0.45290834 0.29999278]\n",
            " [0.26999828 0.37871624 0.92641926 0.28542365]\n",
            " [0.60483684 0.25695705 0.49974779 0.47016446]]\n"
          ],
          "name": "stdout"
        }
      ]
    },
    {
      "cell_type": "code",
      "metadata": {
        "id": "XDs7DLN1URxd",
        "colab_type": "code",
        "colab": {
          "base_uri": "https://localhost:8080/",
          "height": 67
        },
        "outputId": "7c2f486d-ad94-4462-a7fd-59953d6ef4f3"
      },
      "source": [
        "#Write a NumPy program to shuffle numbers and find permutation  between 0 and 10 #(inclusive).\n",
        "\n",
        "import numpy as np\n",
        "x = np.arange(10)\n",
        "np.random.shuffle(x)\n",
        "print(x)\n",
        "print(\"Same result using permutation():\")\n",
        "print(np.random.permutation(10))\n"
      ],
      "execution_count": 33,
      "outputs": [
        {
          "output_type": "stream",
          "text": [
            "[0 3 6 4 1 2 5 8 9 7]\n",
            "Same result using permutation():\n",
            "[0 8 7 2 6 4 1 9 5 3]\n"
          ],
          "name": "stdout"
        }
      ]
    },
    {
      "cell_type": "code",
      "metadata": {
        "id": "pCm0E1hzPD-y",
        "colab_type": "code",
        "colab": {
          "base_uri": "https://localhost:8080/",
          "height": 50
        },
        "outputId": "adb2b2cc-8f68-4543-c284-f1adc427422d"
      },
      "source": [
        "#Write a NumPy program to create a random integer nos of size 10 and sort it.\n",
        "\n",
        "import numpy as np\n",
        "x=np.arange(10)\n",
        "np.random.shuffle(x)\n",
        "print(x)\n",
        "x.sort()\n",
        "print(x)\n",
        "\n"
      ],
      "execution_count": 5,
      "outputs": [
        {
          "output_type": "stream",
          "text": [
            "[7 4 5 1 8 9 6 3 2 0]\n",
            "[0 1 2 3 4 5 6 7 8 9]\n"
          ],
          "name": "stdout"
        }
      ]
    },
    {
      "cell_type": "code",
      "metadata": {
        "id": "gsYnMI3-QDlo",
        "colab_type": "code",
        "colab": {}
      },
      "source": [
        ""
      ],
      "execution_count": null,
      "outputs": []
    }
  ]
}