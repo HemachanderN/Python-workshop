{
  "nbformat": 4,
  "nbformat_minor": 0,
  "metadata": {
    "colab": {
      "name": "Day 2 sesson 2 Example programs.ipynb",
      "provenance": [],
      "authorship_tag": "ABX9TyMzzkqkzK//toLbFHpvYoii",
      "include_colab_link": true
    },
    "kernelspec": {
      "name": "python3",
      "display_name": "Python 3"
    }
  },
  "cells": [
    {
      "cell_type": "markdown",
      "metadata": {
        "id": "view-in-github",
        "colab_type": "text"
      },
      "source": [
        "<a href=\"https://colab.research.google.com/github/HemachanderN/Python-workshop/blob/master/Day_2_sesson_2_Example_programs.ipynb\" target=\"_parent\"><img src=\"https://colab.research.google.com/assets/colab-badge.svg\" alt=\"Open In Colab\"/></a>"
      ]
    },
    {
      "cell_type": "markdown",
      "metadata": {
        "id": "WUxhIyvO5a8Z",
        "colab_type": "text"
      },
      "source": [
        "##**DAY2 Session2**"
      ]
    },
    {
      "cell_type": "code",
      "metadata": {
        "id": "ichLeMtN5I2Q",
        "colab_type": "code",
        "colab": {
          "base_uri": "https://localhost:8080/",
          "height": 50
        },
        "outputId": "0af2cac2-7687-422f-f00b-724ec634dd57"
      },
      "source": [
        "#dict.clear()\n",
        "#Removes all elements of dictionary dict\n",
        "\n",
        "dict = {'Name': 'Zara', 'Age': 7};\n",
        "print(\"Start Len : %d\" %  len(dict))\n",
        "dict.clear()\n",
        "print(\"End Len : %d\" %  len(dict))\n",
        "\n"
      ],
      "execution_count": 1,
      "outputs": [
        {
          "output_type": "stream",
          "text": [
            "Start Len : 2\n",
            "End Len : 0\n"
          ],
          "name": "stdout"
        }
      ]
    },
    {
      "cell_type": "code",
      "metadata": {
        "id": "F39YQpV76AIf",
        "colab_type": "code",
        "colab": {
          "base_uri": "https://localhost:8080/",
          "height": 34
        },
        "outputId": "719ac649-c0ac-419a-9b8b-3661e912368f"
      },
      "source": [
        "#dict.items()\n",
        "#Returns a list of dict's (key, value) tuple pairs\n",
        "\n",
        "dict = {'Name': 'Zara', 'Age': 7}\n",
        "print (\"Value : %s\" %  dict.items())\n"
      ],
      "execution_count": 2,
      "outputs": [
        {
          "output_type": "stream",
          "text": [
            "Value : dict_items([('Name', 'Zara'), ('Age', 7)])\n"
          ],
          "name": "stdout"
        }
      ]
    },
    {
      "cell_type": "code",
      "metadata": {
        "id": "a27S4hZS6OwW",
        "colab_type": "code",
        "colab": {
          "base_uri": "https://localhost:8080/",
          "height": 34
        },
        "outputId": "1fed4f88-3f39-47ab-89af-c448819c660b"
      },
      "source": [
        "# dict.copy()\n",
        "#Returns a copy of dictionary dict\n",
        "\n",
        "dict1 = {'Name': 'Zara', 'Age': 7};\n",
        "dict2 = dict1.copy()\n",
        "print (\"New Dictinary : %s\" %  str(dict2))\n"
      ],
      "execution_count": 3,
      "outputs": [
        {
          "output_type": "stream",
          "text": [
            "New Dictinary : {'Name': 'Zara', 'Age': 7}\n"
          ],
          "name": "stdout"
        }
      ]
    },
    {
      "cell_type": "code",
      "metadata": {
        "id": "heltC2kQ6dpX",
        "colab_type": "code",
        "colab": {
          "base_uri": "https://localhost:8080/",
          "height": 50
        },
        "outputId": "d8263bf4-d3d6-4044-c9af-09497311f44f"
      },
      "source": [
        "#Python Program to Generate a Dictionary that Contains Numbers (between 1 and n) in the Form (x,x*x). \n",
        "n=int(input(\"Enter a number:\"))\n",
        "d={x:x*x for x in range(1,n+1)}\n",
        "print(d)\n"
      ],
      "execution_count": 4,
      "outputs": [
        {
          "output_type": "stream",
          "text": [
            "Enter a number:5\n",
            "{1: 1, 2: 4, 3: 9, 4: 16, 5: 25}\n"
          ],
          "name": "stdout"
        }
      ]
    },
    {
      "cell_type": "code",
      "metadata": {
        "id": "dUg2Hw_F6o7o",
        "colab_type": "code",
        "colab": {
          "base_uri": "https://localhost:8080/",
          "height": 50
        },
        "outputId": "109c62f0-8537-4287-d6f0-f066cc5f78df"
      },
      "source": [
        "#Python Program to Sum All the Items in a Dictionary \n",
        "d={'A':100,'B':540,'C':239}\n",
        "print(\"Total sum of values in the dictionary:\")\n",
        "print(sum(d.values()))\n"
      ],
      "execution_count": 5,
      "outputs": [
        {
          "output_type": "stream",
          "text": [
            "Total sum of values in the dictionary:\n",
            "879\n"
          ],
          "name": "stdout"
        }
      ]
    },
    {
      "cell_type": "code",
      "metadata": {
        "id": "bRkIDaHC68R4",
        "colab_type": "code",
        "colab": {
          "base_uri": "https://localhost:8080/",
          "height": 101
        },
        "outputId": "25e1d9d3-a42e-411b-862d-11aac8481267"
      },
      "source": [
        "#Python Program to Remove the Given Key from a Dictionary \n",
        "d = {'a':1,'b':2,'c':3,'d':4}\n",
        "print(\"Initial dictionary\")\n",
        "print(d)\n",
        "key=input(\"Enter the key to delete(a-d):\")\n",
        "if key in d: \n",
        "    del d[key]\n",
        "else:\n",
        "    print(\"Key not found!\")\n",
        "    exit(0)\n",
        "print(\"Updated dictionary\")\n",
        "print(d)\n"
      ],
      "execution_count": 6,
      "outputs": [
        {
          "output_type": "stream",
          "text": [
            "Initial dictionary\n",
            "{'a': 1, 'b': 2, 'c': 3, 'd': 4}\n",
            "Enter the key to delete(a-d):b\n",
            "Updated dictionary\n",
            "{'a': 1, 'c': 3, 'd': 4}\n"
          ],
          "name": "stdout"
        }
      ]
    },
    {
      "cell_type": "code",
      "metadata": {
        "id": "sXB2EDRK7g-D",
        "colab_type": "code",
        "colab": {}
      },
      "source": [
        "an"
      ],
      "execution_count": null,
      "outputs": []
    },
    {
      "cell_type": "code",
      "metadata": {
        "id": "1VQrnIcp7G32",
        "colab_type": "code",
        "colab": {
          "base_uri": "https://localhost:8080/",
          "height": 185
        },
        "outputId": "c2427cca-bcb0-433a-e590-8871a8c162b1"
      },
      "source": [
        "#Python Program to add name and mark as key->value pair in  a Dictionary and print it.\n",
        "n=int(input(\"Enter no of records\"))\n",
        "d={}\n",
        "for i in range(1,n+1):\n",
        "    name= input(\"Enter name %d\"%(i))\n",
        "    mark=int(input(\"Enter mark %d\"%(i)))\n",
        "    d[name]=mark\n",
        "    print (d)\n"
      ],
      "execution_count": 7,
      "outputs": [
        {
          "output_type": "stream",
          "text": [
            "Enter no of records3\n",
            "Enter name 1ahan\n",
            "Enter mark 125\n",
            "{'ahan': 25}\n",
            "Enter name 2aarush\n",
            "Enter mark 223\n",
            "{'ahan': 25, 'aarush': 23}\n",
            "Enter name 3suhaan\n",
            "Enter mark 325\n",
            "{'ahan': 25, 'aarush': 23, 'suhaan': 25}\n"
          ],
          "name": "stdout"
        }
      ]
    },
    {
      "cell_type": "code",
      "metadata": {
        "id": "LwM7kTRL7nqR",
        "colab_type": "code",
        "colab": {
          "base_uri": "https://localhost:8080/",
          "height": 507
        },
        "outputId": "41ac2e96-80fb-4dc8-e0c9-4db0628d0b4d"
      },
      "source": [
        "# Keys and Values example\n",
        "d={}\n",
        "print (\" The dictionary elements are\")\n",
        "for i in range(1,21):\n",
        "  d[i]=i**2\n",
        "print (d)\n",
        "  # To print key and values\n",
        "print (\" Key==> Value are\")\n",
        "for (k,v) in d.items():\t\n",
        "  print(k,\"==>\",v)\n",
        "# To print key only\n",
        "print (\"\\nTo print key only\")\n",
        "for k in d.keys():\t\n",
        "  print(k, end=\" \")\n",
        "#To print value only\n",
        "print (\"\\nTo print values only\")\n",
        "for v in d.values():\t\n",
        "  print(v, end=\" \")\n"
      ],
      "execution_count": 10,
      "outputs": [
        {
          "output_type": "stream",
          "text": [
            " The dictionary elements are\n",
            "{1: 1, 2: 4, 3: 9, 4: 16, 5: 25, 6: 36, 7: 49, 8: 64, 9: 81, 10: 100, 11: 121, 12: 144, 13: 169, 14: 196, 15: 225, 16: 256, 17: 289, 18: 324, 19: 361, 20: 400}\n",
            " Key==> Value are\n",
            "1 ==> 1\n",
            "2 ==> 4\n",
            "3 ==> 9\n",
            "4 ==> 16\n",
            "5 ==> 25\n",
            "6 ==> 36\n",
            "7 ==> 49\n",
            "8 ==> 64\n",
            "9 ==> 81\n",
            "10 ==> 100\n",
            "11 ==> 121\n",
            "12 ==> 144\n",
            "13 ==> 169\n",
            "14 ==> 196\n",
            "15 ==> 225\n",
            "16 ==> 256\n",
            "17 ==> 289\n",
            "18 ==> 324\n",
            "19 ==> 361\n",
            "20 ==> 400\n",
            "\n",
            "To print key only\n",
            "1 2 3 4 5 6 7 8 9 10 11 12 13 14 15 16 17 18 19 20 \n",
            "To print values only\n",
            "1 4 9 16 25 36 49 64 81 100 121 144 169 196 225 256 289 324 361 400 "
          ],
          "name": "stdout"
        }
      ]
    },
    {
      "cell_type": "code",
      "metadata": {
        "id": "zKyXA-lz8VGb",
        "colab_type": "code",
        "colab": {
          "base_uri": "https://localhost:8080/",
          "height": 50
        },
        "outputId": "dbae92d6-72a4-4e4c-ff67-1bf4a6df45dc"
      },
      "source": [
        "#Python program to convert 2 digit number   into words\n",
        "\n",
        "d={0:'',1:'one',2:'two',3:'three',4:'four',5:'five',6:'six',7:'seven',8:'eight',9:'nine',\\\n",
        "   10:'ten',11:'eleven',12:'twelve',13:'thirteen',14:'fourteen',15:'fifteen',16:'sixteen',\\\n",
        "   17:'seventeen',18:'eightteen',19:'nineteen',20:'twenty',30:'thirty',40:'fourty',50:'fifty',\\\n",
        "   60:'sixty',70:'seventy',80:'eighty',90:'ninty'}\n",
        "\n",
        "num=int(input(\"Enter the integer between 1 to 99:\"))\n",
        "if (num<=20):\n",
        "  print(d[num])\n",
        "if(num>20 and num<100):\n",
        "  if num%10==0:       \n",
        "    print(d[num])\n",
        "  else:\n",
        "    print(d[num//10*10]+\" \"+d[num%10])\n"
      ],
      "execution_count": 12,
      "outputs": [
        {
          "output_type": "stream",
          "text": [
            "Enter the integer between 1 to 99:25\n",
            "twenty five\n"
          ],
          "name": "stdout"
        }
      ]
    },
    {
      "cell_type": "code",
      "metadata": {
        "id": "gcSY6Mlp9F9C",
        "colab_type": "code",
        "colab": {
          "base_uri": "https://localhost:8080/",
          "height": 50
        },
        "outputId": "2c4dcc6a-669a-4f53-e814-8505423ef7fb"
      },
      "source": [
        "d = {\"Pierre\": 42, \"Anne\": 33, \"Zoe\": 24}\n",
        "#Use the sorted function and operator module\n",
        "import operator\n",
        "sorted_d = sorted(d.items(), key=operator.itemgetter(1))\n",
        "print(sorted_d)\n",
        "sorted_a= sorted(d.items(), key=operator.itemgetter(1),reverse=True)\n",
        "print(sorted_a)\n"
      ],
      "execution_count": 13,
      "outputs": [
        {
          "output_type": "stream",
          "text": [
            "[('Zoe', 24), ('Anne', 33), ('Pierre', 42)]\n",
            "[('Pierre', 42), ('Anne', 33), ('Zoe', 24)]\n"
          ],
          "name": "stdout"
        }
      ]
    },
    {
      "cell_type": "markdown",
      "metadata": {
        "id": "f1cvNTqF9w2O",
        "colab_type": "text"
      },
      "source": [
        "##**Files Examples**"
      ]
    },
    {
      "cell_type": "code",
      "metadata": {
        "id": "Nf8OmMCu925X",
        "colab_type": "code",
        "colab": {
          "base_uri": "https://localhost:8080/",
          "height": 67
        },
        "outputId": "2ce6bea8-6794-49c3-d384-7a90e3b86f65"
      },
      "source": [
        "#Python Program to count the number of lines in a text file. \n",
        "fname = input(\"Enter file name: \")\n",
        "num_lines = 0\n",
        "with open(fname, 'r') as f:\n",
        "    for line in f:\n",
        "        num_lines += 1\n",
        "print(\"Number of lines:\")\n",
        "print(num_lines)\n"
      ],
      "execution_count": 20,
      "outputs": [
        {
          "output_type": "stream",
          "text": [
            "Enter file name: data.txt\n",
            "Number of lines:\n",
            "25\n"
          ],
          "name": "stdout"
        }
      ]
    },
    {
      "cell_type": "code",
      "metadata": {
        "id": "tsIsHsfN_tGC",
        "colab_type": "code",
        "colab": {
          "base_uri": "https://localhost:8080/",
          "height": 67
        },
        "outputId": "02a9d130-d2f6-4c98-9f93-16ddeed1d98d"
      },
      "source": [
        "#Python Program to count the number of words in a text file. \n",
        "fname = input(\"Enter file name: \")\n",
        "num_words = 0\n",
        "with open(fname, 'r') as f:\n",
        "    for line in f:\n",
        "        words = line.split()\n",
        "        num_words += len(words)\n",
        "print(\"Number of words:\")\n",
        "print(num_words)\n"
      ],
      "execution_count": 21,
      "outputs": [
        {
          "output_type": "stream",
          "text": [
            "Enter file name: data.txt\n",
            "Number of words:\n",
            "41\n"
          ],
          "name": "stdout"
        }
      ]
    },
    {
      "cell_type": "code",
      "metadata": {
        "id": "Q8wyuU-b_5iU",
        "colab_type": "code",
        "colab": {
          "base_uri": "https://localhost:8080/",
          "height": 84
        },
        "outputId": "8c189764-3517-446b-f256-1233c15c37ab"
      },
      "source": [
        "#Python Program to count the occurrences of a word in a text file.\n",
        "fname = input(\"Enter file name: \")\n",
        "word=input(\"Enter word to be searched:\")\n",
        "k = 0\n",
        "\n",
        "with open(fname, 'r') as f:\n",
        "    for line in f:\n",
        "        words = line.split()\n",
        "        for i in words:\n",
        "            if(i==word):\n",
        "                k=k+1\n",
        "print(\"Occurrences of the word:\")\n",
        "print(k)\n"
      ],
      "execution_count": 23,
      "outputs": [
        {
          "output_type": "stream",
          "text": [
            "Enter file name: data.txt\n",
            "Enter word to be searched:fptr\n",
            "Occurrences of the word:\n",
            "1\n"
          ],
          "name": "stdout"
        }
      ]
    },
    {
      "cell_type": "code",
      "metadata": {
        "id": "lrEa-RlEAdsC",
        "colab_type": "code",
        "colab": {}
      },
      "source": [
        "#Python Program to copy the contents of one file into another. \n",
        "with open(\"data.txt\") as f:\n",
        "  with open(\"out.txt\", \"w\") as f1:\n",
        "    for line in f:\n",
        "      f1.write(line)\n"
      ],
      "execution_count": 26,
      "outputs": []
    },
    {
      "cell_type": "code",
      "metadata": {
        "id": "0ZW2WV-zA62m",
        "colab_type": "code",
        "colab": {
          "base_uri": "https://localhost:8080/",
          "height": 454
        },
        "outputId": "32c34260-a255-4a05-b8fa-26b74db4955f"
      },
      "source": [
        "#Python Program to read the contents of the file in reverse order.\n",
        "filename=input(\"Enter file name: \")\n",
        "with open (filename,'r') as f:\n",
        "  for line in f:\n",
        "    l=line.split()\n",
        "    l.reverse() \n",
        "    st= \" \".join(l)\n",
        "    print (st)\n"
      ],
      "execution_count": 27,
      "outputs": [
        {
          "output_type": "stream",
          "text": [
            "Enter file name: data.txt\n",
            "<stdio.h> #include\n",
            "<stdlib.h> #include\n",
            "\n",
            "main() int\n",
            "{\n",
            "num; int\n",
            "*fptr; FILE\n",
            "\n",
            "Linux or MacOS using are you if location appropriate use //\n",
            "fopen(\"C:\\\\program.txt\",\"w\"); = fptr\n",
            "\n",
            "NULL) == if(fptr\n",
            "{\n",
            "printf(\"Error!\");\n",
            "exit(1);\n",
            "}\n",
            "\n",
            "\"); num: printf(\"Enter\n",
            "scanf(\"%d\",&num);\n",
            "\n",
            "fprintf(fptr,\"%d\",num);\n",
            "fclose(fptr);\n",
            "\n",
            "0; return\n",
            "}\n"
          ],
          "name": "stdout"
        }
      ]
    }
  ]
}
