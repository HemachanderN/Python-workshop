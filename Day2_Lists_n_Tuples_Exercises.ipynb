{
  "nbformat": 4,
  "nbformat_minor": 0,
  "metadata": {
    "colab": {
      "name": "Day2_Lists_n_Tuples_Exercises.ipynb",
      "provenance": [],
      "collapsed_sections": [],
      "authorship_tag": "ABX9TyNrKwutW9QXKoXV4kZgnuwZ",
      "include_colab_link": true
    },
    "kernelspec": {
      "name": "python3",
      "display_name": "Python 3"
    }
  },
  "cells": [
    {
      "cell_type": "markdown",
      "metadata": {
        "id": "view-in-github",
        "colab_type": "text"
      },
      "source": [
        "<a href=\"https://colab.research.google.com/github/HemachanderN/Python-workshop/blob/master/Day2_Lists_n_Tuples_Exercises.ipynb\" target=\"_parent\"><img src=\"https://colab.research.google.com/assets/colab-badge.svg\" alt=\"Open In Colab\"/></a>"
      ]
    },
    {
      "cell_type": "markdown",
      "metadata": {
        "id": "jjjuP_81RW0w",
        "colab_type": "text"
      },
      "source": [
        "##**Lists Excercises**"
      ]
    },
    {
      "cell_type": "code",
      "metadata": {
        "id": "9YxZWTiEsXqG",
        "colab_type": "code",
        "colab": {
          "base_uri": "https://localhost:8080/",
          "height": 54
        },
        "outputId": "6b82ab21-80c9-43e8-f49d-97cc14197c40"
      },
      "source": [
        "#print multiples of 3 upto 200 using a list\n",
        "lst=[x for x in range(1,201) if x%3==0]\n",
        "print(lst)"
      ],
      "execution_count": null,
      "outputs": [
        {
          "output_type": "stream",
          "text": [
            "[3, 6, 9, 12, 15, 18, 21, 24, 27, 30, 33, 36, 39, 42, 45, 48, 51, 54, 57, 60, 63, 66, 69, 72, 75, 78, 81, 84, 87, 90, 93, 96, 99, 102, 105, 108, 111, 114, 117, 120, 123, 126, 129, 132, 135, 138, 141, 144, 147, 150, 153, 156, 159, 162, 165, 168, 171, 174, 177, 180, 183, 186, 189, 192, 195, 198]\n"
          ],
          "name": "stdout"
        }
      ]
    },
    {
      "cell_type": "code",
      "metadata": {
        "id": "oE6HGDCZtVZd",
        "colab_type": "code",
        "colab": {
          "base_uri": "https://localhost:8080/",
          "height": 54
        },
        "outputId": "e9564927-3d0a-4f91-e4a2-45177a1df6e3"
      },
      "source": [
        "#print the nos only divisible by 5 and 7 between 1000 and 2000 using a list( both inclusive)\n",
        "n=[x for x in range(1000,2001) if x%5==0 or x%7==0]\n",
        "print(n)\n"
      ],
      "execution_count": null,
      "outputs": [
        {
          "output_type": "stream",
          "text": [
            "[1000, 1001, 1005, 1008, 1010, 1015, 1020, 1022, 1025, 1029, 1030, 1035, 1036, 1040, 1043, 1045, 1050, 1055, 1057, 1060, 1064, 1065, 1070, 1071, 1075, 1078, 1080, 1085, 1090, 1092, 1095, 1099, 1100, 1105, 1106, 1110, 1113, 1115, 1120, 1125, 1127, 1130, 1134, 1135, 1140, 1141, 1145, 1148, 1150, 1155, 1160, 1162, 1165, 1169, 1170, 1175, 1176, 1180, 1183, 1185, 1190, 1195, 1197, 1200, 1204, 1205, 1210, 1211, 1215, 1218, 1220, 1225, 1230, 1232, 1235, 1239, 1240, 1245, 1246, 1250, 1253, 1255, 1260, 1265, 1267, 1270, 1274, 1275, 1280, 1281, 1285, 1288, 1290, 1295, 1300, 1302, 1305, 1309, 1310, 1315, 1316, 1320, 1323, 1325, 1330, 1335, 1337, 1340, 1344, 1345, 1350, 1351, 1355, 1358, 1360, 1365, 1370, 1372, 1375, 1379, 1380, 1385, 1386, 1390, 1393, 1395, 1400, 1405, 1407, 1410, 1414, 1415, 1420, 1421, 1425, 1428, 1430, 1435, 1440, 1442, 1445, 1449, 1450, 1455, 1456, 1460, 1463, 1465, 1470, 1475, 1477, 1480, 1484, 1485, 1490, 1491, 1495, 1498, 1500, 1505, 1510, 1512, 1515, 1519, 1520, 1525, 1526, 1530, 1533, 1535, 1540, 1545, 1547, 1550, 1554, 1555, 1560, 1561, 1565, 1568, 1570, 1575, 1580, 1582, 1585, 1589, 1590, 1595, 1596, 1600, 1603, 1605, 1610, 1615, 1617, 1620, 1624, 1625, 1630, 1631, 1635, 1638, 1640, 1645, 1650, 1652, 1655, 1659, 1660, 1665, 1666, 1670, 1673, 1675, 1680, 1685, 1687, 1690, 1694, 1695, 1700, 1701, 1705, 1708, 1710, 1715, 1720, 1722, 1725, 1729, 1730, 1735, 1736, 1740, 1743, 1745, 1750, 1755, 1757, 1760, 1764, 1765, 1770, 1771, 1775, 1778, 1780, 1785, 1790, 1792, 1795, 1799, 1800, 1805, 1806, 1810, 1813, 1815, 1820, 1825, 1827, 1830, 1834, 1835, 1840, 1841, 1845, 1848, 1850, 1855, 1860, 1862, 1865, 1869, 1870, 1875, 1876, 1880, 1883, 1885, 1890, 1895, 1897, 1900, 1904, 1905, 1910, 1911, 1915, 1918, 1920, 1925, 1930, 1932, 1935, 1939, 1940, 1945, 1946, 1950, 1953, 1955, 1960, 1965, 1967, 1970, 1974, 1975, 1980, 1981, 1985, 1988, 1990, 1995, 2000]\n"
          ],
          "name": "stdout"
        }
      ]
    },
    {
      "cell_type": "code",
      "metadata": {
        "id": "KRtLekuDt_tn",
        "colab_type": "code",
        "colab": {
          "base_uri": "https://localhost:8080/",
          "height": 151
        },
        "outputId": "c69f4ec7-d6f8-4753-f9a5-47c8c028155d"
      },
      "source": [
        "#Add the n number of names in a list and print them alphabetically and reverse alphabetically.\n",
        "#n=int(input(\"Enter how many Names:\"))\n",
        "names=[str(input(\"Enter Name: \")) for x in range(int(input(\"Enter how many Names:\")))]\n",
        "names.sort()\n",
        "print(names)\n",
        "names.sort(reverse=True)\n",
        "print(names)"
      ],
      "execution_count": null,
      "outputs": [
        {
          "output_type": "stream",
          "text": [
            "Enter how many Names:5\n",
            "Enter Name: mm\n",
            "Enter Name: xx\n",
            "Enter Name: aa\n",
            "Enter Name: tt\n",
            "Enter Name: ee\n",
            "['aa', 'ee', 'mm', 'tt', 'xx']\n",
            "['xx', 'tt', 'mm', 'ee', 'aa']\n"
          ],
          "name": "stdout"
        }
      ]
    },
    {
      "cell_type": "code",
      "metadata": {
        "id": "9ni0-zvIwj3T",
        "colab_type": "code",
        "colab": {
          "base_uri": "https://localhost:8080/",
          "height": 34
        },
        "outputId": "6f9a9e2f-9742-4231-ed17-3f0a4e291c4e"
      },
      "source": [
        "#Print  perfect squares and divisible by 5 between 500 and 1000( (both inclusive) using list\n",
        "import math\n",
        "lst=[x for x in range(500,1001) if x%5==0 and math.sqrt(x)-math.floor(math.sqrt(x))==0 ]\n",
        "print(lst)"
      ],
      "execution_count": null,
      "outputs": [
        {
          "output_type": "stream",
          "text": [
            "[625, 900]\n"
          ],
          "name": "stdout"
        }
      ]
    },
    {
      "cell_type": "markdown",
      "metadata": {
        "id": "1krMz8efRfVr",
        "colab_type": "text"
      },
      "source": [
        "## **Tuples Excercises**"
      ]
    },
    {
      "cell_type": "code",
      "metadata": {
        "id": "tRDlh2h1yz-r",
        "colab_type": "code",
        "colab": {
          "base_uri": "https://localhost:8080/",
          "height": 50
        },
        "outputId": "8b884cb4-5a3a-4b38-f51b-3437c7102c60"
      },
      "source": [
        "#Get  a string and store word by word as elements in a tuple and find the largest word in the  tuple and print it\n",
        "str=input(\"Enter a string: \").split()\n",
        "lst=[]\n",
        "for wrd in str:\n",
        "  lst.append((len(wrd),wrd))\n",
        "lst.sort(reverse=True)\n",
        "print(\"Longest word=\",lst[0][1])\n",
        "\n"
      ],
      "execution_count": null,
      "outputs": [
        {
          "output_type": "stream",
          "text": [
            "Enter a string: welcome to python coding challenge\n",
            "Longest word= challenge\n"
          ],
          "name": "stdout"
        }
      ]
    },
    {
      "cell_type": "code",
      "metadata": {
        "id": "K9VLK_YyTmpo",
        "colab_type": "code",
        "colab": {
          "base_uri": "https://localhost:8080/",
          "height": 202
        },
        "outputId": "53f836d5-5257-46cf-b1cf-8d7f38b2aa1b"
      },
      "source": [
        "#Get rollno and marks (Rollno, mark) as list of tuples for n number of students through keyboard  and print them in marks descending order with rollno.\n",
        "n=int(input(\"Enter no. of students: \"))\n",
        "lst=[]\n",
        "for i in range(n):\n",
        "  rollno=int(input(\"Enter Rollno:\"))\n",
        "  marks=int(input(\"Enter Marks:\"))\n",
        "  lst.append((marks,rollno))\n",
        "lst.sort(reverse=True)\n",
        "print(\"Rollno\\tMarks\")\n",
        "for m,r in lst:\n",
        "  print(r,\"\\t\",m)\n",
        "\n"
      ],
      "execution_count": 13,
      "outputs": [
        {
          "output_type": "stream",
          "text": [
            "Enter no. of students: 3\n",
            "Enter Rollno:1\n",
            "Enter Marks:84\n",
            "Enter Rollno:2\n",
            "Enter Marks:72\n",
            "Enter Rollno:3\n",
            "Enter Marks:91\n",
            "Rollno\tMarks\n",
            "3 \t 91\n",
            "1 \t 84\n",
            "2 \t 72\n"
          ],
          "name": "stdout"
        }
      ]
    },
    {
      "cell_type": "code",
      "metadata": {
        "id": "r66wWVx0feJx",
        "colab_type": "code",
        "colab": {
          "base_uri": "https://localhost:8080/",
          "height": 218
        },
        "outputId": "9454de8e-5e85-4021-b42b-ccdbf2adf4f8"
      },
      "source": [
        "#Get name and salary (name, salary) as list of tuples for n number of employees through keyboard  and print them in name alphabetical order with salary\n",
        "\n",
        "n=int(input(\"Enter no. of Employees: \"))\n",
        "lst=[]\n",
        "for i in range(n):\n",
        "  name=input(\"Enter name:\")\n",
        "  sal=float(input(\"Enter salary:\"))\n",
        "  lst.append((name,sal))\n",
        "lst.sort()\n",
        "print(\"*******\\nName\\tsalary\")\n",
        "for n,s in lst:\n",
        "  print(n,\"\\t\",s)"
      ],
      "execution_count": 16,
      "outputs": [
        {
          "output_type": "stream",
          "text": [
            "Enter no. of Employees: 3\n",
            "Enter name:naren\n",
            "Enter salary:25000\n",
            "Enter name:rahul\n",
            "Enter salary:30000\n",
            "Enter name:hemu\n",
            "Enter salary:35000\n",
            "*******\n",
            "Name\tsalary\n",
            "hemu \t 35000.0\n",
            "naren \t 25000.0\n",
            "rahul \t 30000.0\n"
          ],
          "name": "stdout"
        }
      ]
    }
  ]
}