{
  "nbformat": 4,
  "nbformat_minor": 0,
  "metadata": {
    "colab": {
      "name": "Day1.ipynb",
      "provenance": [],
      "collapsed_sections": [],
      "authorship_tag": "ABX9TyMrBpmzEMAV8ei2Cm+X11/h",
      "include_colab_link": true
    },
    "kernelspec": {
      "name": "python3",
      "display_name": "Python 3"
    }
  },
  "cells": [
    {
      "cell_type": "markdown",
      "metadata": {
        "id": "view-in-github",
        "colab_type": "text"
      },
      "source": [
        "<a href=\"https://colab.research.google.com/github/HemachanderN/Python-workshop/blob/master/Day1.ipynb\" target=\"_parent\"><img src=\"https://colab.research.google.com/assets/colab-badge.svg\" alt=\"Open In Colab\"/></a>"
      ]
    },
    {
      "cell_type": "markdown",
      "metadata": {
        "id": "Wd44W-mjEMI2",
        "colab_type": "text"
      },
      "source": [
        "##**'Day 1 session 1 Examples programs’**"
      ]
    },
    {
      "cell_type": "code",
      "metadata": {
        "id": "8mcn8Jn2Edfi",
        "colab_type": "code",
        "colab": {
          "base_uri": "https://localhost:8080/",
          "height": 67
        },
        "outputId": "97fd21fa-d56f-4ee6-cfe8-873951cfaace"
      },
      "source": [
        "#Python Program to Add Two Numbers getting through key board\n",
        "\n",
        "# sum of two nos\n",
        "num1 = int(input(\"Enter first no\"))\n",
        "num2 = int(input(\"Enter second no\"))\n",
        "\n",
        "# Adding the two numbers\n",
        "sum = num1 + num2\n",
        "\n",
        "# Display the sum\n",
        "print('The sum of {0} and {1} is {2}'.format(num1, num2, sum))\n"
      ],
      "execution_count": null,
      "outputs": [
        {
          "output_type": "stream",
          "text": [
            "Enter first no5\n",
            "Enter second no6\n",
            "The sum of 5 and 6 is 11\n"
          ],
          "name": "stdout"
        }
      ]
    },
    {
      "cell_type": "code",
      "metadata": {
        "id": "gS0sTK3mEv8C",
        "colab_type": "code",
        "colab": {
          "base_uri": "https://localhost:8080/",
          "height": 50
        },
        "outputId": "4bbb1181-20be-49d3-d90a-0d5606469ffb"
      },
      "source": [
        "#Python program to check if the input year is a leap year or not\n",
        "\n",
        "# To get year (integer input) from the user\n",
        "year = int(input(\"Enter a year: \"))\n",
        "\n",
        "if ((year % 4) == 0 and (year % 100)  != 0) or ((year % 400) == 0):\n",
        "           print(\"{0} is a leap year\".format(year))\n",
        "else:\n",
        "           print(\"{0} is not a leap year\".format(year))\n"
      ],
      "execution_count": null,
      "outputs": [
        {
          "output_type": "stream",
          "text": [
            "Enter a year: 2014\n",
            "2014 is not a leap year\n"
          ],
          "name": "stdout"
        }
      ]
    },
    {
      "cell_type": "code",
      "metadata": {
        "id": "I3AG98apFEtN",
        "colab_type": "code",
        "colab": {
          "base_uri": "https://localhost:8080/",
          "height": 34
        },
        "outputId": "d06dfbd4-8f71-4a25-8e2c-0a3307f50a9f"
      },
      "source": [
        "#Python Program to Generate a Random Number \n",
        "\n",
        "# Program to generate a random number between 0 and 9\n",
        "# import the random module\n",
        "import random\n",
        "print(random.randint(0,9))\n"
      ],
      "execution_count": null,
      "outputs": [
        {
          "output_type": "stream",
          "text": [
            "1\n"
          ],
          "name": "stdout"
        }
      ]
    },
    {
      "cell_type": "code",
      "metadata": {
        "id": "uC5YXQBTFQ8O",
        "colab_type": "code",
        "colab": {
          "base_uri": "https://localhost:8080/",
          "height": 50
        },
        "outputId": "dcbb4f5a-8786-4303-e5e0-e654563c8df3"
      },
      "source": [
        "#Python Program to Convert Kilometers to Miles \n",
        "\n",
        "# To take kilometers from the user, uncomment the code below\n",
        "kilometers = int(input(\"Enter value in kilometers\"))\n",
        "\n",
        "# conversion factor\n",
        "conv_fac = 0.621371\n",
        "\n",
        "# calculate miles\n",
        "miles = kilometers * conv_fac\n",
        "print('%0.3f kilometers is equal to %0.3f miles' %(kilometers,miles))\n"
      ],
      "execution_count": null,
      "outputs": [
        {
          "output_type": "stream",
          "text": [
            "Enter value in kilometers5\n",
            "5.000 kilometers is equal to 3.107 miles\n"
          ],
          "name": "stdout"
        }
      ]
    },
    {
      "cell_type": "code",
      "metadata": {
        "id": "IM6Dv0f3Fhut",
        "colab_type": "code",
        "colab": {
          "base_uri": "https://localhost:8080/",
          "height": 84
        },
        "outputId": "3e5a02d4-066c-4354-a2fa-b6409542deb8"
      },
      "source": [
        "#Python Program to Solve Quadratic Equation \n",
        "\n",
        "# Solve the quadratic equation ax**2 + bx + c = 0\n",
        "# importing  complex math module\n",
        "import cmath\n",
        "\n",
        " # To take coefficient input from the users\n",
        "a = float(input('Enter a: '))\n",
        "b = float(input('Enter b: '))\n",
        "c = float(input('Enter c: '))\n",
        "\n",
        "# calculate the discriminant\n",
        "d = (b**2) - (4*a*c)\n",
        "\n",
        "# find two solutions\n",
        "sol1 = (-b-cmath.sqrt(d))/(2*a)\n",
        "sol2 = (-b+cmath.sqrt(d))/(2*a)\n",
        "\n",
        "print('The solution are {0} and {1}'.format(sol1,sol2))\n"
      ],
      "execution_count": null,
      "outputs": [
        {
          "output_type": "stream",
          "text": [
            "Enter a: 2\n",
            "Enter b: 1\n",
            "Enter c: 2\n",
            "The solution are (-0.25-0.9682458365518543j) and (-0.25+0.9682458365518543j)\n"
          ],
          "name": "stdout"
        }
      ]
    },
    {
      "cell_type": "code",
      "metadata": {
        "id": "-AtwpFaUFu3-",
        "colab_type": "code",
        "colab": {
          "base_uri": "https://localhost:8080/",
          "height": 50
        },
        "outputId": "f6e7b231-9665-4d51-970b-bdbd96364a80"
      },
      "source": [
        "#Python Program to find prime or not using function \n",
        "def test_prime(n):\n",
        "    if (n==1):\n",
        "        return False\n",
        "    elif (n==2):\n",
        "        return True;\n",
        "    else:\n",
        "        for x in range(2,n):\n",
        "            if(n % x==0):\n",
        "                return False\n",
        "        return True\n",
        "no=int(input(\"Enter the number\"))\n",
        "if (test_prime(no)) is True :\n",
        "    print(\" {0} is a prime no\".format(no))\n",
        "else:\n",
        "     print(\" {0} is not a prime no\".format(no))\n"
      ],
      "execution_count": null,
      "outputs": [
        {
          "output_type": "stream",
          "text": [
            "Enter the number2\n",
            " 2 is a prime no\n"
          ],
          "name": "stdout"
        }
      ]
    },
    {
      "cell_type": "code",
      "metadata": {
        "id": "hv__tFe6GItc",
        "colab_type": "code",
        "colab": {
          "base_uri": "https://localhost:8080/",
          "height": 706
        },
        "outputId": "b5e04077-fa4c-4bc7-e868-ac8225a35bd2"
      },
      "source": [
        "#CODING\n",
        "\"\"\"Calculator program\"\"\"\n",
        " \n",
        "loop = 1 # 1 means loop; anything else means don't loop.\n",
        "choice = 0 # This variable holds the user's choice in the menu\n",
        "\n",
        "def add(a,b):\n",
        "    return a+b \n",
        "def sub(a,b):\n",
        "    return a-b\n",
        "def mul(a,b):\n",
        "    return a*b\n",
        "def div(a,b):\n",
        "    return a/b\n",
        "\n",
        "while loop == 1:\n",
        "    # Print what options you have\n",
        "    print (\"Welcome to calculator.py\")\n",
        "    print (\"your options are:\")\n",
        "    print (\" \")\n",
        "    print(\"1) Addition\")\n",
        "    print(\"2) Subtraction\")\n",
        "    print(\"3) Multiplication\")\n",
        "    print(\"4) Division\")\n",
        "    print(\"5) Quit calculator.py\")\n",
        "    print(\" \")\n",
        "    try:\n",
        "        choice = int(input(\"Choose your option: \"))\n",
        "    except:\n",
        "        print('please enter a valid number for option')\n",
        "    print(\" \")\n",
        "    print(\" \")\n",
        "    if choice == 1:\n",
        "        x = int(input(\"Enter 1st no: \"))\n",
        "        y = int(input(\"Enter 2nd no: \"))\n",
        "        print(\"The answer is \",add(x,y))\n",
        "\n",
        "    elif choice == 2:\n",
        "        x = int(input(\"Enter 1st no: \"))\n",
        "        y = int(input(\"Enter 2nd no: \"))\n",
        "        print(\"answer is \",sub(x,y))\n",
        "  \n",
        "    elif choice == 3:\n",
        "        x = int(input(\"Enter 1st no: \"))\n",
        "        y = int(input(\"Enter 2nd no: \"))\n",
        "        print(\"answer is \",mul(x,y))\n",
        "\n",
        "    elif choice == 4:\n",
        "        x = int(input(\"Enter 1st no: \"))\n",
        "        y = int(input(\"Enter 2nd no: \"))\n",
        "        print(\"answer is \",div(x,y))\n",
        "        \n",
        "    elif choice == 5:\n",
        "        loop = 0\n",
        "     \n",
        "    else:\n",
        "        print(\"please choice a valid option from 1 to 5\")\n",
        "        choice=0\n",
        "print (\"Thank-you for using calculator.py!\")\n"
      ],
      "execution_count": null,
      "outputs": [
        {
          "output_type": "stream",
          "text": [
            "Welcome to calculator.py\n",
            "your options are:\n",
            " \n",
            "1) Addition\n",
            "2) Subtraction\n",
            "3) Multiplication\n",
            "4) Division\n",
            "5) Quit calculator.py\n",
            " \n",
            "Choose your option: 1\n",
            " \n",
            " \n",
            "Enter 1st no: 25\n",
            "Enter 2nd no: 65\n",
            "The answer is  90\n",
            "Welcome to calculator.py\n",
            "your options are:\n",
            " \n",
            "1) Addition\n",
            "2) Subtraction\n",
            "3) Multiplication\n",
            "4) Division\n",
            "5) Quit calculator.py\n",
            " \n",
            "Choose your option: 6\n",
            " \n",
            " \n",
            "please choice a valid option from 1 to 5\n",
            "Welcome to calculator.py\n",
            "your options are:\n",
            " \n",
            "1) Addition\n",
            "2) Subtraction\n",
            "3) Multiplication\n",
            "4) Division\n",
            "5) Quit calculator.py\n",
            " \n",
            "Choose your option: 5\n",
            " \n",
            " \n",
            "Thank-you for using calculator.py!\n"
          ],
          "name": "stdout"
        }
      ]
    },
    {
      "cell_type": "markdown",
      "metadata": {
        "id": "g9z2zwqtK03S",
        "colab_type": "text"
      },
      "source": [
        "# **‘Day 1 session 1 Exercises’**\n"
      ]
    },
    {
      "cell_type": "code",
      "metadata": {
        "id": "WKMXq_vUK46n",
        "colab_type": "code",
        "colab": {
          "base_uri": "https://localhost:8080/",
          "height": 84
        },
        "outputId": "bf33b9b6-9dd2-43a2-ee1e-b0be2f667fa9"
      },
      "source": [
        "#1.\tFind the compound interest for the given p,n,r  (formula : p(1+n*r/100)n )\n",
        "p=float(input(\"Enter P\"))\n",
        "n=float(input(\"Enter n\"))\n",
        "r=float(input(\"Enter r\"))\n",
        "C_I=p*(1+n*r/100)**n\n",
        "print(\"Compund Interest is: \", C_I)"
      ],
      "execution_count": null,
      "outputs": [
        {
          "output_type": "stream",
          "text": [
            "Enter P10000\n",
            "Enter n3\n",
            "Enter r0.8\n",
            "Compund Interest is:  10737.41824\n"
          ],
          "name": "stdout"
        }
      ]
    },
    {
      "cell_type": "code",
      "metadata": {
        "id": "xanzc-umMOjF",
        "colab_type": "code",
        "colab": {
          "base_uri": "https://localhost:8080/",
          "height": 50
        },
        "outputId": "006fd018-c564-4811-e1d6-49fa94dbd183"
      },
      "source": [
        "#2.\tConvert centegrade to farenheit  ( f= 9/5*c+32)\n",
        "c=int(input(\"Enter temperature in centegrade\"))\n",
        "f=9/5*c+32\n",
        "print(\"Equivalent Farenheit temperature=\",f)"
      ],
      "execution_count": null,
      "outputs": [
        {
          "output_type": "stream",
          "text": [
            "Enter temperature in centegrade10\n",
            "Equivalent Farenheit temperature= 50.0\n"
          ],
          "name": "stdout"
        }
      ]
    },
    {
      "cell_type": "code",
      "metadata": {
        "id": "1ZFWxYxdmr30",
        "colab_type": "code",
        "colab": {
          "base_uri": "https://localhost:8080/",
          "height": 67
        },
        "outputId": "e3b94f59-af0d-478e-f57e-98d81e64bd70"
      },
      "source": [
        "#3.\tFind the greater of two nos \n",
        "num1=int(input(\"Enter first no:\"))\n",
        "num2=int(input(\"Enter Second no:\"))\n",
        "if num1>num2:\n",
        "  print(\"{0} is greater than {1}\".format(num1,num2))\n",
        "else:\n",
        "  print(\"{0} is greater than {1}\".format(num2,num1))"
      ],
      "execution_count": null,
      "outputs": [
        {
          "output_type": "stream",
          "text": [
            "Enter first no:20\n",
            "Enter Second no:10\n",
            "20 is greater than 10\n"
          ],
          "name": "stdout"
        }
      ]
    },
    {
      "cell_type": "code",
      "metadata": {
        "id": "8lFvlr4wqrfI",
        "colab_type": "code",
        "colab": {
          "base_uri": "https://localhost:8080/",
          "height": 84
        },
        "outputId": "dfa136e3-369f-471c-de40-4f39b3eea072"
      },
      "source": [
        "#4.\tWrite a program for finding surface areas of cylinder and cone (2*PI*r*r*h, 1/3*PI*r*r*h) using function.\n",
        "import math\n",
        "def surf_area_cylinder(r,h):\n",
        "  res=2*math.pi*r*r*h\n",
        "  print(\"Surface area of cylinder=%0.3f\"%(res))\n",
        "def surf_area_cone(r,h):\n",
        "  res=1/3*math.pi*r*r*h\n",
        "  print(\"Surface area of cone=%0.3f\"%(res))\n",
        "rad=int(input(\"Enter Radius\"))\n",
        "height=int(input(\"Enter height\"))\n",
        "surf_area_cylinder(rad,height)\n",
        "surf_area_cone(rad,height)"
      ],
      "execution_count": null,
      "outputs": [
        {
          "output_type": "stream",
          "text": [
            "Enter Radius5\n",
            "Enter height6\n",
            "Surface area of cylinder=942.478\n",
            "Surface area of cone=157.080\n"
          ],
          "name": "stdout"
        }
      ]
    },
    {
      "cell_type": "code",
      "metadata": {
        "id": "evq_NSPBrNY6",
        "colab_type": "code",
        "colab": {
          "base_uri": "https://localhost:8080/",
          "height": 50
        },
        "outputId": "ea350175-f7ed-4850-d1fc-f93c58c8c1a3"
      },
      "source": [
        "#5.\tFind the greatest of four nos ( using ‘and’ operator)   using function.\n",
        "def largest(t1,t2,t3,t4):\n",
        "  if t1>=t2 and t1>=t3 and t1>=t4:\n",
        "    print(\"{0} is largest number\".format(t1))\n",
        "  elif t2>=t1 and t2>=t3 and t2>=t4:\n",
        "    print(\"{0} is largest number\".format(t2))\n",
        "  elif t3>=t1 and t3>=t2 and t3>=t4:\n",
        "    print(\"{0} is largest number\".format(t3))\n",
        "  elif t4>=t1 and t4>=t2 and t4>=t3:\n",
        "    print(\"{0} is largest number\".format(t4))\n",
        "\n",
        "n1,n2,n3,n4=list(map(int,input(\"Enter four nos.:\").split()))\n",
        "largest(n1,n2,n3,n4)\n",
        "\n",
        "\n"
      ],
      "execution_count": null,
      "outputs": [
        {
          "output_type": "stream",
          "text": [
            "Enter four nos.:10 10 25 10\n",
            "25 is largest number\n"
          ],
          "name": "stdout"
        }
      ]
    },
    {
      "cell_type": "code",
      "metadata": {
        "id": "cn61PMcd2tec",
        "colab_type": "code",
        "colab": {
          "base_uri": "https://localhost:8080/",
          "height": 1000
        },
        "outputId": "233d05cd-067f-4bc6-a45b-2270fc9a3e4d"
      },
      "source": [
        "loop = 1 # 1 means loop; anything else means don't loop.\n",
        "choice = 0 # This variable holds the user's choice in the menu\n",
        "\n",
        "def odd_even(n):\n",
        "  if n%2==0:\n",
        "    print(\"%d is even\"%(n))\n",
        "  else:\n",
        "      print(\"%d is odd\"%(n))\n",
        "  return\n",
        "def fact(n):\n",
        "  f=1\n",
        "  for i in range(2,n+1):\n",
        "    f=f*i\n",
        "  print(\"Factorial(%d)=%d\"%(n,f))\n",
        "  return\n",
        "def odd_upto_n(n):\n",
        "  print(\"Odd numbers upto {0} are\".format(n))\n",
        "  for i in range(1,n+1,2):\n",
        "    print(\" \",i)\n",
        "def test_prime(n):\n",
        "  if (n==1):\n",
        "      return False\n",
        "  elif (n==2):\n",
        "      return True;\n",
        "  else:\n",
        "      for x in range(2,n):\n",
        "          if(n % x==0):\n",
        "              return False\n",
        "  return True\n",
        "def prime_upto_n(x):\n",
        "  print(\"Prime numbers upto {0} are:\".format(x))\n",
        "  for y in range(2,x+1):\n",
        "    if test_prime(y):\n",
        "      print(\" \",y)\n",
        "\n",
        "\n",
        "\n",
        "\n",
        "while loop == 1:\n",
        "    # Print what options you have\n",
        "    print (\"Welcome to Operations.py\")\n",
        "    print (\"your options are:\")\n",
        "    print (\" \")\n",
        "    print(\"1) to check odd or even\")\n",
        "    print(\"2) to find factorial\")\n",
        "    print(\"3) genrate odd numbers upto n\")\n",
        "    print(\"4) generate prime numbers upto n\")\n",
        "    print(\"5) Quit operations.py\")\n",
        "    print(\" \")\n",
        "    try:\n",
        "        choice = int(input(\"Choose your option: \"))\n",
        "    except:\n",
        "        print('please enter a valid number for option')\n",
        "    print(\" \")\n",
        "    print(\" \")\n",
        "    if choice == 1:\n",
        "        x = int(input(\"Enter 1st no: \"))\n",
        "        y = int(input(\"Enter 2nd no: \"))\n",
        "        odd_even(x)\n",
        "        odd_even(y)\n",
        "\n",
        "\n",
        "    elif choice == 2:\n",
        "        x = int(input(\"Enter 1st no: \"))\n",
        "        y = int(input(\"Enter 2nd no: \"))\n",
        "        fact(x)\n",
        "        fact(y)\n",
        "  \n",
        "    elif choice == 3:\n",
        "        x = int(input(\"Enter 1st no: \"))\n",
        "        y = int(input(\"Enter 2nd no: \"))\n",
        "        odd_upto_n(x)\n",
        "        odd_upto_n(y)\n",
        "\n",
        "\n",
        "    elif choice == 4:\n",
        "        x = int(input(\"Enter 1st no: \"))\n",
        "        y = int(input(\"Enter 2nd no: \"))\n",
        "        prime_upto_n(x)\n",
        "        prime_upto_n(y)\n",
        "        \n",
        "    elif choice == 5:\n",
        "        loop = 0\n",
        "     \n",
        "    else:\n",
        "        print(\"please choice a valid option from 1 to 5\")\n",
        "        choice=0\n",
        "print (\"Thank-you for using Operations.py!\")\n"
      ],
      "execution_count": null,
      "outputs": [
        {
          "output_type": "stream",
          "text": [
            "Welcome to calculator.py\n",
            "your options are:\n",
            " \n",
            "1) to check odd or even\n",
            "2) to find factorial\n",
            "3) genrate odd numbers upto n\n",
            "4) generate prime numbers upto n\n",
            "5) Quit operations.py\n",
            " \n",
            "Choose your option: 4\n",
            " \n",
            " \n",
            "Enter 1st no: 10\n",
            "Enter 2nd no: 20\n",
            "Prime numbers upto 10 are:\n",
            "  2\n",
            "  3\n",
            "  5\n",
            "  7\n",
            "Prime numbers upto 20 are:\n",
            "  2\n",
            "  3\n",
            "  5\n",
            "  7\n",
            "  11\n",
            "  13\n",
            "  17\n",
            "  19\n",
            "Welcome to calculator.py\n",
            "your options are:\n",
            " \n",
            "1) to check odd or even\n",
            "2) to find factorial\n",
            "3) genrate odd numbers upto n\n",
            "4) generate prime numbers upto n\n",
            "5) Quit operations.py\n",
            " \n",
            "Choose your option: 4\n",
            " \n",
            " \n",
            "Enter 1st no: 19\n",
            "Enter 2nd no: 17\n",
            "Prime numbers upto 19 are:\n",
            "  2\n",
            "  3\n",
            "  5\n",
            "  7\n",
            "  11\n",
            "  13\n",
            "  17\n",
            "  19\n",
            "Prime numbers upto 17 are:\n",
            "  2\n",
            "  3\n",
            "  5\n",
            "  7\n",
            "  11\n",
            "  13\n",
            "  17\n",
            "Welcome to calculator.py\n",
            "your options are:\n",
            " \n",
            "1) to check odd or even\n",
            "2) to find factorial\n",
            "3) genrate odd numbers upto n\n",
            "4) generate prime numbers upto n\n",
            "5) Quit operations.py\n",
            " \n",
            "Choose your option: 5\n",
            " \n",
            " \n",
            "Thank-you for using Operations.py!\n"
          ],
          "name": "stdout"
        }
      ]
    }
  ]
}